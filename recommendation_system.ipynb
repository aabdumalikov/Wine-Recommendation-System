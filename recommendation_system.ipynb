{
 "cells": [
  {
   "cell_type": "markdown",
   "metadata": {},
   "source": [
    "## Importing necessary libraries"
   ]
  },
  {
   "cell_type": "code",
   "execution_count": null,
   "metadata": {},
   "outputs": [],
   "source": [
    "import pandas as pd \n",
    "import difflib\n",
    "import pickle\n",
    "from sklearn.metrics.pairwise import cosine_similarity\n",
    "from sklearn.feature_extraction.text import TfidfVectorizer\n",
    "import plotly_express as px"
   ]
  },
  {
   "cell_type": "markdown",
   "metadata": {},
   "source": [
    "## Reading Data"
   ]
  },
  {
   "cell_type": "code",
   "execution_count": null,
   "metadata": {},
   "outputs": [],
   "source": [
    "data = pd.read_csv(\"full_data.csv\")"
   ]
  },
  {
   "cell_type": "markdown",
   "metadata": {},
   "source": [
    "## Cleaning Data"
   ]
  },
  {
   "cell_type": "code",
   "execution_count": null,
   "metadata": {},
   "outputs": [],
   "source": [
    "def data_clean(data):\n",
    "    data['Format'] = data['Format'].str.replace('L', '').str.replace(',', '.').astype(float)\n",
    "    data['Alcohol content'] = data['Alcohol content'].apply(lambda a: float(str(a).replace(',', '.').replace('%', '')))\n",
    "    data['Temperature'] = data['Temperature'].str.replace('°C', '')\n",
    "    data['Average Rating'] = data['Average Rating'].str.replace(',', '.')\n",
    "    data['Average Rating'] = data['Average Rating'].astype(str).apply(lambda a: float(a.strip(\"(''),.\"))).astype(float)\n",
    "    data['Price'] = data['Price'].str.replace(',', '.').astype(str).apply(lambda a: float(a.strip(\"(''),.\"))).astype(float)\n",
    "    data['Full name'] = data['Full name'].drop_duplicates()\n",
    "    data.dropna(subset=['Full name'], inplace=True)\n",
    "    return data\n",
    "data = data_clean(data)"
   ]
  },
  {
   "cell_type": "code",
   "execution_count": null,
   "metadata": {},
   "outputs": [],
   "source": [
    "new_data = data[['Image', 'Type of wine', 'Ideal with', 'Aroma', 'Full name', 'Price', 'Description']]"
   ]
  },
  {
   "cell_type": "code",
   "execution_count": null,
   "metadata": {},
   "outputs": [],
   "source": [
    "for feature in new_data:\n",
    "    new_data[feature] = new_data[feature].fillna('')"
   ]
  },
  {
   "cell_type": "code",
   "execution_count": null,
   "metadata": {},
   "outputs": [],
   "source": [
    "combined_features = new_data['Type of wine'] + ' ' + new_data['Ideal with'] + ' ' + new_data['Aroma'] + ' ' + new_data['Full name'] + ' ' + new_data['Description']"
   ]
  },
  {
   "cell_type": "markdown",
   "metadata": {},
   "source": [
    "## Visualizations"
   ]
  },
  {
   "cell_type": "code",
   "execution_count": null,
   "metadata": {},
   "outputs": [],
   "source": [
    "type_counts = data['Type of wine'].value_counts().reset_index().head(10)\n",
    "type_counts.columns = ['Type of wine', 'Count']\n",
    "\n",
    "fig = px.histogram(type_counts, x='Type of wine', y='Count', \n",
    "             title='Count of Each Type of Wine', height=600, width=1300, text_auto=True, barmode='group')\n",
    "fig.update_layout(title=\"What is the most type of wine in the store?\")\n",
    "fig.show()"
   ]
  },
  {
   "cell_type": "code",
   "execution_count": null,
   "metadata": {},
   "outputs": [],
   "source": [
    "type_counts = data['Aroma'].value_counts().reset_index().head(10)\n",
    "type_counts.columns = ['Aroma', 'Count']\n",
    "\n",
    "fig = px.pie(type_counts, names='Aroma', values='Count', \n",
    "             title='Count of Each Type of Wine', height=800, width=800)\n",
    "fig.update_layout(title=\"Distribution of vino aromas\")\n",
    "fig.show()"
   ]
  },
  {
   "cell_type": "code",
   "execution_count": null,
   "metadata": {},
   "outputs": [],
   "source": [
    "filtered_data = data[data['Type of wine'].notna()]\n",
    "\n",
    "fig = px.sunburst(filtered_data.dropna(subset=['Country']), path=['Type of wine', 'Country'], values='Average Rating', color='Type of wine')\n",
    "fig.update_layout(title='Average Rating of type of wines')\n",
    "fig.show()\n"
   ]
  },
  {
   "cell_type": "code",
   "execution_count": null,
   "metadata": {},
   "outputs": [],
   "source": [
    "type_counts = data['Country'].value_counts().reset_index()\n",
    "type_counts.columns = ['Country', 'Count']\n",
    "\n",
    "fig = px.histogram(type_counts, x='Country', y='Count', \n",
    "             title='Count of Each Type of Wine', height=600, width=1300, text_auto=True, barmode='group')\n",
    "fig.update_layout(title=\"Distribution of wines count by Country\")\n",
    "fig.show()"
   ]
  },
  {
   "cell_type": "markdown",
   "metadata": {},
   "source": [
    "## Machine Learning"
   ]
  },
  {
   "cell_type": "code",
   "execution_count": null,
   "metadata": {},
   "outputs": [],
   "source": [
    "vectorizer = TfidfVectorizer()\n",
    "feature_vectors = vectorizer.fit_transform(combined_features)\n",
    "similarity = cosine_similarity(feature_vectors)\n",
    "vino_name = input('Enter vino name: ')\n",
    "list_of_all_full_names = data['Full name'].tolist()\n",
    "filtered_list = [name for name in list_of_all_full_names if isinstance(name, str)]\n",
    "find_close_match = difflib.get_close_matches(vino_name, filtered_list)\n",
    "close_match = find_close_match[0]"
   ]
  },
  {
   "cell_type": "code",
   "execution_count": null,
   "metadata": {},
   "outputs": [],
   "source": [
    "if vino_name in new_data['Full name'].values:\n",
    "    index = new_data[new_data['Full name'] == vino_name].index[0]\n",
    "    similarity_score = list(enumerate(similarity[index]))\n",
    "    sorted_similar_vines = sorted(similarity_score, key=lambda x: x[1], reverse=True)\n",
    "    print(\"Suggested vines for you: \\n \")\n",
    "\n",
    "    i = 1\n",
    "    vines = []\n",
    "\n",
    "    for vine in sorted_similar_vines:\n",
    "        index = vine[0]\n",
    "        if index in new_data.index:\n",
    "            title_from_index = new_data.loc[index, 'Full name']\n",
    "            if pd.notna(title_from_index):\n",
    "                vines.append((title_from_index, vine[1]))\n",
    "        else:\n",
    "            pass\n",
    "        \n",
    "    for vine, score in vines[:5]:\n",
    "        print(f\"{i}. {vine} - Similarity Score: {score*100:.1f}%\")\n",
    "        i += 1\n",
    "else:\n",
    "    print(\"The specified 'vino_name' does not exist in the DataFrame.\")"
   ]
  },
  {
   "cell_type": "markdown",
   "metadata": {},
   "source": [
    "## Loading Data"
   ]
  },
  {
   "cell_type": "code",
   "execution_count": null,
   "metadata": {},
   "outputs": [],
   "source": [
    "pickle.dump(new_data, open('wines.pkl', 'wb'))"
   ]
  },
  {
   "cell_type": "code",
   "execution_count": null,
   "metadata": {},
   "outputs": [],
   "source": [
    "pickle.dump(similarity, open('similarity.pkl', 'wb'))"
   ]
  }
 ],
 "metadata": {
  "language_info": {
   "name": "python"
  }
 },
 "nbformat": 4,
 "nbformat_minor": 2
}
